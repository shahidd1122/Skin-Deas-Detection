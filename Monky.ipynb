{
 "cells": [
  {
   "cell_type": "code",
   "execution_count": 1,
   "id": "6fa797a9-ff93-4330-b19c-d5032f88c71a",
   "metadata": {},
   "outputs": [],
   "source": [
    "import torch\n",
    "import timm\n",
    "import torch.nn as nn\n",
    "import torch.optim as optim\n",
    "import torchvision.transforms as transforms\n",
    "from torchvision import datasets\n",
    "from torch.utils.data import DataLoader, SubsetRandomSampler\n",
    "import torch\n",
    "import torch.nn as nn\n",
    "import torch.nn.functional as F\n",
    "from torchvision import datasets, transforms\n",
    "from torch.utils.data import DataLoader\n",
    "import os"
   ]
  },
  {
   "cell_type": "code",
   "execution_count": 2,
   "id": "8a1ee838-9287-499a-886f-da5d1b3ade7f",
   "metadata": {},
   "outputs": [],
   "source": [
    "device = torch.device(\"cuda\" if torch.cuda.is_available() else \"cpu\")\n",
    "\n",
    "# Data preprocessing and augmentation\n",
    "transform = transforms.Compose([\n",
    "    transforms.Resize((224, 224)),\n",
    "    transforms.ToTensor(),\n",
    "    transforms.Normalize(mean=[0.5, 0.5, 0.5], std=[0.5, 0.5, 0.5])\n",
    "])"
   ]
  },
  {
   "cell_type": "code",
   "execution_count": 3,
   "id": "781653e3-3b1c-4da8-8623-81f25ac25705",
   "metadata": {},
   "outputs": [
    {
     "name": "stdout",
     "output_type": "stream",
     "text": [
      "num_classes-- 4\n"
     ]
    }
   ],
   "source": [
    "# Load dataset\n",
    "dataset = datasets.ImageFolder(root='Monkeypox Skin Image Dataset', transform=transform)\n",
    "num_classes = len(dataset.classes)  # Should be 4 for your case\n",
    "print(\"num_classes--\",num_classes)"
   ]
  },
  {
   "cell_type": "code",
   "execution_count": 4,
   "id": "704ef833-a875-4bae-b7bb-d042dd2f38f4",
   "metadata": {},
   "outputs": [],
   "source": [
    "train_loader = DataLoader(dataset, batch_size=32, shuffle=True)"
   ]
  },
  {
   "cell_type": "code",
   "execution_count": 5,
   "id": "d60782a6-fd2d-459c-b4af-f55af4160742",
   "metadata": {},
   "outputs": [],
   "source": [
    "# Define CNN model\n",
    "class MonkeypoxCNN(nn.Module):\n",
    "    def __init__(self):\n",
    "        super(MonkeypoxCNN, self).__init__()\n",
    "        self.conv1 = nn.Conv2d(3, 32, kernel_size=3, padding=1)   # (3,224,224) -> (32,224,224)\n",
    "        self.pool = nn.MaxPool2d(2, 2)                            # -> (32,112,112)\n",
    "        self.conv2 = nn.Conv2d(32, 64, kernel_size=3, padding=1) # -> (64,112,112)\n",
    "        self.pool2 = nn.MaxPool2d(2, 2)                           # -> (64,56,56)\n",
    "        self.conv3 = nn.Conv2d(64, 128, kernel_size=3, padding=1)# -> (128,56,56)\n",
    "        self.pool3 = nn.MaxPool2d(2, 2)                           # -> (128,28,28)\n",
    "\n",
    "        self.fc1 = nn.Linear(128 * 28 * 28, 256)\n",
    "        self.dropout = nn.Dropout(0.5)\n",
    "        self.fc2 = nn.Linear(256, num_classes)  # 4 classes\n",
    "\n",
    "    def forward(self, x):\n",
    "        x = self.pool(F.relu(self.conv1(x)))\n",
    "        x = self.pool2(F.relu(self.conv2(x)))\n",
    "        x = self.pool3(F.relu(self.conv3(x)))\n",
    "        x = x.view(-1, 128 * 28 * 28)\n",
    "        x = self.dropout(F.relu(self.fc1(x)))\n",
    "        x = self.fc2(x)\n",
    "        return x\n",
    "\n",
    "# Instantiate model"
   ]
  },
  {
   "cell_type": "code",
   "execution_count": 6,
   "id": "b78f2555-d1e4-400a-928c-5adb8e365658",
   "metadata": {},
   "outputs": [],
   "source": [
    "# Instantiate model\n",
    "model = MonkeypoxCNN().to(device)\n",
    "# Define loss and optimizer\n",
    "criterion = nn.CrossEntropyLoss()\n",
    "optimizer = torch.optim.Adam(model.parameters(), lr=0.001)"
   ]
  },
  {
   "cell_type": "code",
   "execution_count": 7,
   "id": "f65455bb-5ac8-4851-827a-b60c7f13e784",
   "metadata": {},
   "outputs": [
    {
     "name": "stdout",
     "output_type": "stream",
     "text": [
      "Epoch 1/10, Loss: 1.2605, Accuracy: 48.96%\n",
      "Epoch 2/10, Loss: 1.0517, Accuracy: 59.09%\n",
      "Epoch 3/10, Loss: 0.9551, Accuracy: 62.47%\n",
      "Epoch 4/10, Loss: 0.8495, Accuracy: 65.19%\n",
      "Epoch 5/10, Loss: 0.7476, Accuracy: 71.95%\n",
      "Epoch 6/10, Loss: 0.6511, Accuracy: 75.97%\n",
      "Epoch 7/10, Loss: 0.4986, Accuracy: 81.30%\n",
      "Epoch 8/10, Loss: 0.3797, Accuracy: 85.58%\n",
      "Epoch 9/10, Loss: 0.2887, Accuracy: 88.96%\n",
      "Epoch 10/10, Loss: 0.2300, Accuracy: 93.12%\n"
     ]
    }
   ],
   "source": [
    "num_epochs = 10\n",
    "for epoch in range(num_epochs):\n",
    "    model.train()\n",
    "    running_loss = 0.0\n",
    "    correct = 0\n",
    "    total = 0\n",
    "\n",
    "    for images, labels in train_loader:\n",
    "        images, labels = images.to(device), labels.to(device)\n",
    "        \n",
    "        optimizer.zero_grad()\n",
    "        outputs = model(images)\n",
    "        loss = criterion(outputs, labels)\n",
    "        loss.backward()\n",
    "        optimizer.step()\n",
    "\n",
    "        running_loss += loss.item()\n",
    "\n",
    "        # Calculate accuracy\n",
    "        _, predicted = torch.max(outputs, 1)\n",
    "        total += labels.size(0)\n",
    "        correct += (predicted == labels).sum().item()\n",
    "\n",
    "    epoch_loss = running_loss / len(train_loader)\n",
    "    epoch_acc = 100 * correct / total\n",
    "    print(f\"Epoch {epoch+1}/{num_epochs}, Loss: {epoch_loss:.4f}, Accuracy: {epoch_acc:.2f}%\")"
   ]
  },
  {
   "cell_type": "code",
   "execution_count": null,
   "id": "6f845e26-fac0-40b4-878a-2c637cde3547",
   "metadata": {},
   "outputs": [],
   "source": []
  },
  {
   "cell_type": "code",
   "execution_count": null,
   "id": "88ba360b",
   "metadata": {},
   "outputs": [],
   "source": []
  }
 ],
 "metadata": {
  "kernelspec": {
   "display_name": "Python 3 (ipykernel)",
   "language": "python",
   "name": "python3"
  },
  "language_info": {
   "codemirror_mode": {
    "name": "ipython",
    "version": 3
   },
   "file_extension": ".py",
   "mimetype": "text/x-python",
   "name": "python",
   "nbconvert_exporter": "python",
   "pygments_lexer": "ipython3",
   "version": "3.11.3"
  }
 },
 "nbformat": 4,
 "nbformat_minor": 5
}
