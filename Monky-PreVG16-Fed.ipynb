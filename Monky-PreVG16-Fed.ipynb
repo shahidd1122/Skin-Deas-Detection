{
 "cells": [
  {
   "cell_type": "code",
   "execution_count": null,
   "id": "6fa797a9-ff93-4330-b19c-d5032f88c71a",
   "metadata": {},
   "outputs": [],
   "source": [
    "import torch\n",
    "import timm\n",
    "import torch.nn as nn\n",
    "import torch.optim as optim\n",
    "import torchvision.transforms as transforms\n",
    "from torchvision import datasets\n",
    "from torch.utils.data import DataLoader, SubsetRandomSampler\n",
    "import torch\n",
    "import torch.nn as nn\n",
    "import torch.nn.functional as F\n",
    "from torchvision import datasets, transforms\n",
    "from torch.utils.data import DataLoader\n",
    "from torchvision import datasets, models, transforms\n",
    "import os\n",
    "import torch\n",
    "import torch.nn as nn\n",
    "from torch.utils.data import DataLoader, random_split\n",
    "from torchvision import models\n",
    "import copy\n",
    "import numpy as numpy\n",
    "import matplotlib.pyplot as plt"
   ]
  },
  {
   "cell_type": "code",
   "execution_count": null,
   "id": "8a1ee838-9287-499a-886f-da5d1b3ade7f",
   "metadata": {},
   "outputs": [],
   "source": [
    "device = torch.device(\"cuda\" if torch.cuda.is_available() else \"cpu\")\n",
    "\n",
    "# Data preprocessing and augmentation\n",
    "transform = transforms.Compose([\n",
    "    transforms.Resize((224, 224)),\n",
    "    transforms.ToTensor(),\n",
    "    transforms.Normalize(mean=[0.5, 0.5, 0.5], std=[0.5, 0.5, 0.5])\n",
    "])"
   ]
  },
  {
   "cell_type": "code",
   "execution_count": null,
   "id": "781653e3-3b1c-4da8-8623-81f25ac25705",
   "metadata": {},
   "outputs": [],
   "source": [
    "# Load dataset\n",
    "dataset = datasets.ImageFolder(root='Monkeypox Skin Image Dataset', transform=transform)\n",
    "num_classes = len(dataset.classes)  # Should be 4 for your case\n",
    "print(\"num_classes--\",num_classes)"
   ]
  },
  {
   "cell_type": "code",
   "execution_count": null,
   "id": "02c9f079",
   "metadata": {},
   "outputs": [],
   "source": [
    "num_clients = 2\n",
    "client_datasets = random_split(dataset, [len(dataset) // num_clients] * num_clients)"
   ]
  },
  {
   "cell_type": "code",
   "execution_count": null,
   "id": "6a2e3f13",
   "metadata": {},
   "outputs": [],
   "source": [
    "# Split a small portion for global testing\n",
    "test_size = int(0.1 * len(dataset))\n",
    "train_dataset, test_dataset = random_split(dataset, [len(dataset) - test_size, test_size])\n",
    "test_loader = DataLoader(test_dataset, batch_size=32, shuffle=False)"
   ]
  },
  {
   "cell_type": "code",
   "execution_count": null,
   "id": "d60782a6-fd2d-459c-b4af-f55af4160742",
   "metadata": {},
   "outputs": [],
   "source": [
    "device = torch.device(\"cuda\" if torch.cuda.is_available() else \"cpu\")\n",
    "\n",
    "global_model  = models.vgg16(pretrained=True)\n",
    "\n",
    "# Freeze all VGG16 convolutional layers\n",
    "for param in global_model.features.parameters():\n",
    "    param.requires_grad = False\n",
    "    \n",
    "# Modify the classifier\n",
    "global_model.classifier[6] = nn.Linear(4096, num_classes)  # Replace final layer\n",
    "\n",
    "global_model  = global_model.to(device)"
   ]
  },
  {
   "cell_type": "code",
   "execution_count": null,
   "id": "55289594",
   "metadata": {},
   "outputs": [],
   "source": [
    "# Local training function\n",
    "def local_train(model, train_data, epochs, device):\n",
    "    model.train()\n",
    "    loader = DataLoader(train_data, batch_size=32, shuffle=True)\n",
    "    criterion = nn.CrossEntropyLoss()\n",
    "    optimizer = torch.optim.Adam(model.classifier.parameters(), lr=0.0001)\n",
    "\n",
    "    for _ in range(epochs):\n",
    "        for images, labels in loader:\n",
    "            images, labels = images.to(device), labels.to(device)\n",
    "            optimizer.zero_grad()\n",
    "            outputs = model(images)\n",
    "            loss = criterion(outputs, labels)\n",
    "            loss.backward()\n",
    "            optimizer.step()\n",
    "    return model.state_dict()"
   ]
  },
  {
   "cell_type": "code",
   "execution_count": null,
   "id": "2860455d",
   "metadata": {},
   "outputs": [],
   "source": [
    "# Federated averaging\n",
    "def federated_avg(weights_list):\n",
    "    avg_weights = copy.deepcopy(weights_list[0])\n",
    "    for key in avg_weights.keys():\n",
    "        for i in range(1, len(weights_list)):\n",
    "            avg_weights[key] += weights_list[i][key]\n",
    "        avg_weights[key] = avg_weights[key] / len(weights_list)\n",
    "    return avg_weights"
   ]
  },
  {
   "cell_type": "code",
   "execution_count": null,
   "id": "167852e3",
   "metadata": {},
   "outputs": [],
   "source": [
    "# Evaluation function\n",
    "def evaluate(model, test_loader, device):\n",
    "    model.eval()\n",
    "    correct = 0\n",
    "    total = 0\n",
    "    with torch.no_grad():\n",
    "        for images, labels in test_loader:\n",
    "            images, labels = images.to(device), labels.to(device)\n",
    "            outputs = model(images)\n",
    "            _, predicted = torch.max(outputs.data, 1)\n",
    "            total += labels.size(0)\n",
    "            correct += (predicted == labels).sum().item()\n",
    "    acc = 100 * correct / total\n",
    "    return acc"
   ]
  },
  {
   "cell_type": "code",
   "execution_count": null,
   "id": "b78f2555-d1e4-400a-928c-5adb8e365658",
   "metadata": {},
   "outputs": [],
   "source": [
    "# Federated training loop\n",
    "accuracy_list = []\n",
    "num_rounds = 5\n",
    "local_epochs = 1\n",
    "\n",
    "for rnd in range(num_rounds):\n",
    "    print(f\"\\n--- Federated Round {rnd+1} ---\")\n",
    "    local_weights = []\n",
    "\n",
    "    for i in range(num_clients):\n",
    "        print(f\"Training on client {i+1}\")\n",
    "        client_model = copy.deepcopy(global_model).to(device)\n",
    "        client_weights = local_train(client_model, client_datasets[i], local_epochs, device)\n",
    "        local_weights.append(client_weights)\n",
    "\n",
    "    # Aggregate with FedAvg\n",
    "    global_weights = federated_avg(local_weights)\n",
    "    global_model.load_state_dict(global_weights)\n",
    "\n",
    "    # Evaluate global model\n",
    "    acc = evaluate(global_model, test_loader, device)\n",
    "    accuracy_list.append(acc)\n",
    "    print(f\"Global Model Accuracy after Round {rnd+1}: {acc:.2f}%\")"
   ]
  },
  {
   "cell_type": "code",
   "execution_count": null,
   "id": "3a366c82-5d06-4b5b-b3a0-9e345a866996",
   "metadata": {},
   "outputs": [],
   "source": [
    "from sklearn.metrics \n",
    "import confusion_matrix\n",
    "import seaborn as sns\n",
    "\n",
    "_, y_true, y_pred = evaluate(global_model, test_loader, device, return_preds=True)\n",
    "cm = confusion_matrix(y_true, y_pred)\n",
    "\n",
    "plt.figure(figsize=(8,6))\n",
    "sns.heatmap(cm, annot=True, fmt='d', cmap='Blues')\n",
    "plt.title(\"Confusion Matrix\")\n",
    "plt.xlabel(\"Predicted\")\n",
    "plt.ylabel(\"True\")\n",
    "plt.show()\n"
   ]
  },
  {
   "cell_type": "code",
   "execution_count": 3,
   "id": "3aab858e",
   "metadata": {},
   "outputs": [
    {
     "data": {
      "image/png": "[encoded data removed]",
      "text/plain": [
       "<Figure size 800x500 with 1 Axes>"
      ]
     },
     "metadata": {},
     "output_type": "display_data"
    }
   ],
   "source": [
    "accuracy_list = [ 76.62,94.81,97.40,100.00,100.00]\n",
    "num_rounds=5\n",
    "import matplotlib.pyplot as plt\n",
    "plt.figure(figsize=(8,5))\n",
    "plt.plot(range(1, num_rounds+1), accuracy_list, marker='o', color='blue')\n",
    "plt.title(\"Federated Learning: Accuracy over Rounds\")\n",
    "plt.xlabel(\"Federated Round\")\n",
    "plt.ylabel(\"Accuracy (%)\")\n",
    "plt.grid(True)\n",
    "plt.show()\n"
   ]
  },
  {
   "cell_type": "code",
   "execution_count": 4,
   "id": "409b5055",
   "metadata": {},
   "outputs": [
    {
     "ename": "NameError",
     "evalue": "name 'evaluate' is not defined",
     "output_type": "error",
     "traceback": [
      "\u001b[1;31m---------------------------------------------------------------------------\u001b[0m",
      "\u001b[1;31mNameError\u001b[0m                                 Traceback (most recent call last)",
      "Cell \u001b[1;32mIn[4], line 4\u001b[0m\n\u001b[0;32m      1\u001b[0m \u001b[38;5;28;01mfrom\u001b[39;00m\u001b[38;5;250m \u001b[39m\u001b[38;5;21;01msklearn\u001b[39;00m\u001b[38;5;21;01m.\u001b[39;00m\u001b[38;5;21;01mmetrics\u001b[39;00m\u001b[38;5;250m \u001b[39m\u001b[38;5;28;01mimport\u001b[39;00m confusion_matrix\n\u001b[0;32m      2\u001b[0m \u001b[38;5;28;01mimport\u001b[39;00m\u001b[38;5;250m \u001b[39m\u001b[38;5;21;01mseaborn\u001b[39;00m\u001b[38;5;250m \u001b[39m\u001b[38;5;28;01mas\u001b[39;00m\u001b[38;5;250m \u001b[39m\u001b[38;5;21;01msns\u001b[39;00m\n\u001b[1;32m----> 4\u001b[0m _, y_true, y_pred \u001b[38;5;241m=\u001b[39m evaluate(global_model, test_loader, device, return_preds\u001b[38;5;241m=\u001b[39m\u001b[38;5;28;01mTrue\u001b[39;00m)\n\u001b[0;32m      5\u001b[0m cm \u001b[38;5;241m=\u001b[39m confusion_matrix(y_true, y_pred)\n\u001b[0;32m      7\u001b[0m plt\u001b[38;5;241m.\u001b[39mfigure(figsize\u001b[38;5;241m=\u001b[39m(\u001b[38;5;241m8\u001b[39m,\u001b[38;5;241m6\u001b[39m))\n",
      "\u001b[1;31mNameError\u001b[0m: name 'evaluate' is not defined"
     ]
    }
   ],
   "source": []
  },
  {
   "cell_type": "code",
   "execution_count": null,
   "id": "3ad8f592",
   "metadata": {},
   "outputs": [],
   "source": []
  }
 ],
 "metadata": {
  "kernelspec": {
   "display_name": "Python 3 (ipykernel)",
   "language": "python",
   "name": "python3"
  },
  "language_info": {
   "codemirror_mode": {
    "name": "ipython",
    "version": 3
   },
   "file_extension": ".py",
   "mimetype": "text/x-python",
   "name": "python",
   "nbconvert_exporter": "python",
   "pygments_lexer": "ipython3",
   "version": "3.13.5"
  }
 },
 "nbformat": 4,
 "nbformat_minor": 5
}
